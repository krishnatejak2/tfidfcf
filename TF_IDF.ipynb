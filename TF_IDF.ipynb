{
 "cells": [
  {
   "cell_type": "markdown",
   "metadata": {},
   "source": [
    "# Source :\n",
    "https://github.com/williamscott701/Information-Retrieval/blob/master/2.%20TF-IDF%20Ranking%20-%20Cosine%20Similarity%2C%20Matching%20Score/TF-IDF.ipynb\n",
    "\n",
    "https://github.com/mayank408/TFIDF/blob/master/TFIDF.ipynb"
   ]
  },
  {
   "cell_type": "code",
   "execution_count": 4,
   "metadata": {},
   "outputs": [],
   "source": [
    "from nltk.corpus import stopwords\n",
    "from nltk.tokenize import word_tokenize\n",
    "from nltk.stem import PorterStemmer\n",
    "from collections import Counter\n",
    "from num2words import num2words\n",
    "from sklearn.model_selection import *\n",
    "\n",
    "import nltk\n",
    "import os\n",
    "import string\n",
    "import numpy as np\n",
    "import copy\n",
    "import pandas as pd\n",
    "import pickle\n",
    "import re\n",
    "import math"
   ]
  },
  {
   "cell_type": "code",
   "execution_count": 5,
   "metadata": {},
   "outputs": [],
   "source": [
    "# load the dataset\n",
    "data = open('data/corpus').read()\n",
    "labels, texts = [], []\n",
    "for i, line in enumerate(data.split(\"\\n\")):\n",
    "    content = line.split()\n",
    "    labels.append(content[0])\n",
    "    texts.append(\" \".join(content[1:]))\n",
    "\n",
    "# create a dataframe using texts and lables\n",
    "trainDF = pd.DataFrame()\n",
    "trainDF['text'] = texts\n",
    "trainDF['label'] = labels\n",
    "\n",
    "# split the dataset into training and validation datasets \n",
    "train_x, valid_x, train_y, valid_y = train_test_split(trainDF['text'], trainDF['label'])\n"
   ]
  },
  {
   "cell_type": "code",
   "execution_count": 6,
   "metadata": {},
   "outputs": [
    {
     "output_type": "execute_result",
     "data": {
      "text/plain": "                                                   text       label\n0     Stuning even for the non-gamer: This sound tra...  __label__2\n1     The best soundtrack ever to anything.: I'm rea...  __label__2\n2     Amazing!: This soundtrack is my favorite music...  __label__2\n3     Excellent Soundtrack: I truly like this soundt...  __label__2\n4     Remember, Pull Your Jaw Off The Floor After He...  __label__2\n...                                                 ...         ...\n9995  A revelation of life in small town America in ...  __label__2\n9996  Great biography of a very interesting journali...  __label__2\n9997  Interesting Subject; Poor Presentation: You'd ...  __label__1\n9998  Don't buy: The box looked used and it is obvio...  __label__1\n9999  Beautiful Pen and Fast Delivery.: The pen was ...  __label__2\n\n[10000 rows x 2 columns]",
      "text/html": "<div>\n<style scoped>\n    .dataframe tbody tr th:only-of-type {\n        vertical-align: middle;\n    }\n\n    .dataframe tbody tr th {\n        vertical-align: top;\n    }\n\n    .dataframe thead th {\n        text-align: right;\n    }\n</style>\n<table border=\"1\" class=\"dataframe\">\n  <thead>\n    <tr style=\"text-align: right;\">\n      <th></th>\n      <th>text</th>\n      <th>label</th>\n    </tr>\n  </thead>\n  <tbody>\n    <tr>\n      <th>0</th>\n      <td>Stuning even for the non-gamer: This sound tra...</td>\n      <td>__label__2</td>\n    </tr>\n    <tr>\n      <th>1</th>\n      <td>The best soundtrack ever to anything.: I'm rea...</td>\n      <td>__label__2</td>\n    </tr>\n    <tr>\n      <th>2</th>\n      <td>Amazing!: This soundtrack is my favorite music...</td>\n      <td>__label__2</td>\n    </tr>\n    <tr>\n      <th>3</th>\n      <td>Excellent Soundtrack: I truly like this soundt...</td>\n      <td>__label__2</td>\n    </tr>\n    <tr>\n      <th>4</th>\n      <td>Remember, Pull Your Jaw Off The Floor After He...</td>\n      <td>__label__2</td>\n    </tr>\n    <tr>\n      <th>...</th>\n      <td>...</td>\n      <td>...</td>\n    </tr>\n    <tr>\n      <th>9995</th>\n      <td>A revelation of life in small town America in ...</td>\n      <td>__label__2</td>\n    </tr>\n    <tr>\n      <th>9996</th>\n      <td>Great biography of a very interesting journali...</td>\n      <td>__label__2</td>\n    </tr>\n    <tr>\n      <th>9997</th>\n      <td>Interesting Subject; Poor Presentation: You'd ...</td>\n      <td>__label__1</td>\n    </tr>\n    <tr>\n      <th>9998</th>\n      <td>Don't buy: The box looked used and it is obvio...</td>\n      <td>__label__1</td>\n    </tr>\n    <tr>\n      <th>9999</th>\n      <td>Beautiful Pen and Fast Delivery.: The pen was ...</td>\n      <td>__label__2</td>\n    </tr>\n  </tbody>\n</table>\n<p>10000 rows × 2 columns</p>\n</div>"
     },
     "metadata": {},
     "execution_count": 6
    }
   ],
   "source": [
    "trainDF"
   ]
  },
  {
   "cell_type": "code",
   "execution_count": 7,
   "metadata": {},
   "outputs": [],
   "source": [
    "\n",
    "# docA = \"The cat sat on my face\"\n",
    "# docB = \"The dog sat on my bed\"\n",
    "# docC = \"The cat sat on my face\"\n",
    "# docD = \"The dog sat on my bed\""
   ]
  },
  {
   "cell_type": "code",
   "execution_count": 8,
   "metadata": {},
   "outputs": [],
   "source": [
    "# data = pd.DataFrame()\n",
    "# data['text'] = [docA,docB,docC,docD]\n",
    "# data['label'] = ['a','b','a','b']\n",
    "# data"
   ]
  },
  {
   "cell_type": "code",
   "execution_count": 9,
   "metadata": {},
   "outputs": [
    {
     "output_type": "execute_result",
     "data": {
      "text/plain": "True"
     },
     "metadata": {},
     "execution_count": 9
    }
   ],
   "source": [
    "isinstance(1,int)"
   ]
  },
  {
   "cell_type": "code",
   "execution_count": 21,
   "metadata": {},
   "outputs": [],
   "source": [
    "def get_tftdfcf(data_frame):\n",
    "    import math\n",
    "    wordSet = {}\n",
    "    word_count = []\n",
    "    word_count_label = []\n",
    "    tf_array = []\n",
    "    idf_array = []\n",
    "    tfidf_array = []\n",
    "\n",
    "    for doc_2 in data_frame.text:\n",
    "        doc_2 = doc_2.split(\" \")\n",
    "        wordSet = set(wordSet).union(set(doc_2))\n",
    "    \n",
    "    print(len(wordSet))\n",
    "    \n",
    "    for label in data_frame.label.unique():\n",
    "        data_to_process = data_frame[data_frame.label == label]\n",
    "        data_to_process.drop(columns = ['label'])\n",
    "        wordDict_label = dict.fromkeys(wordSet, 0) \n",
    "        for doc_3 in data_to_process.text:\n",
    "            doc_3 = doc_3.split(\" \")\n",
    "            for word in doc_3:\n",
    "                if isinstance(wordDict_label[word],int):\n",
    "                    wordDict_label[word]+=1\n",
    "            wordDict_label['label'] = label\n",
    "            wordDict_label['records'] = len(data_to_process)\n",
    "        word_count_label.append(wordDict_label)\n",
    "        # print(label , wordDict_label)\n",
    "        \n",
    "    for doc,label in zip(data_frame.text,data_frame.label):\n",
    "        doc = doc.split(\" \")\n",
    "        wordDict = dict.fromkeys(wordSet, 0)\n",
    "    \n",
    "        for word in doc:\n",
    "            wordDict[word]+=1\n",
    "        wordDict['label'] = label\n",
    "        word_count.append(wordDict)\n",
    "\n",
    "        tfDict = {}\n",
    "        bowCount = len(doc)\n",
    "        for word, count in wordDict.items():\n",
    "            if  word != 'label':\n",
    "                tfDict[word] = math.log10(count/float(bowCount)+1.0)\n",
    "            tfDict['label'] = label\n",
    "        tf_array.append(tfDict)\n",
    "        # print(wordDict)\n",
    "\n",
    "    \n",
    "    idfDict = {}\n",
    "    N = len(data_frame)\n",
    "    \n",
    "    idfDict = dict.fromkeys(wordSet, 0)\n",
    "    for doc in word_count:\n",
    "        for word, val in doc.items():\n",
    "            if word != 'label':\n",
    "                if val > 0 :\n",
    "                    idfDict[word] += 1\n",
    "\n",
    "    for word, val in idfDict.items():\n",
    "        if word  != 'label'  :\n",
    "            idfDict[word] = math.log10(N / float(val)) if val > 0 else 0\n",
    "    idf_array.append(idfDict)\n",
    "    \n",
    "    tf_df = pd.DataFrame(tf_array)\n",
    "    cf_data = pd.DataFrame(word_count_label)\n",
    "\n",
    "    for label_index in tf_df.label.unique():\n",
    "        data_to_process = tf_df[tf_df['label'] == label_index]\n",
    "        cf_data_to_process = cf_data[cf_data['label'] == label_index]\n",
    "        cf_data_to_process = cf_data_to_process.drop(columns = ['label'])\n",
    "        n_len = len(cf_data_to_process)\n",
    "        if n_len == 1 :\n",
    "            no_records_per_label = list(cf_data_to_process.records)[0]\n",
    "            cf_data_to_process  = dict(cf_data_to_process.iloc[0,:])\n",
    "        # print(no_records_per_label)\n",
    "        for index,row in data_to_process.iterrows():\n",
    "            tf_dict = dict(row)\n",
    "            tfidf = {}\n",
    "            for word, val in tf_dict.items():\n",
    "                if word  != 'label'  :\n",
    "                    tfidf[word] = val*idfDict[word]*(cf_data_to_process[word]/no_records_per_label)\n",
    "                    # print((cf_data_to_process[word]))\n",
    "            tfidf_array.append(tfidf)\n",
    "        # return tfidf\n",
    "\n",
    "    return (word_count,tf_array,idf_array,tfidf_array,word_count_label)\n",
    "\n",
    "    # return [row_list,wordDict]\n"
   ]
  },
  {
   "cell_type": "code",
   "execution_count": 22,
   "metadata": {},
   "outputs": [
    {
     "output_type": "stream",
     "name": "stdout",
     "text": "15396\n"
    }
   ],
   "source": [
    "result = get_tftdfcf(trainDF.iloc[0:1000])\n",
    "word_count = pd.DataFrame(result[0])\n",
    "tf_count = pd.DataFrame(result[1])\n",
    "idf_data = pd.DataFrame(result[2])\n",
    "tfidf_data = pd.DataFrame(result[3])\n",
    "cf_data = pd.DataFrame(result[4])"
   ]
  },
  {
   "cell_type": "code",
   "execution_count": 29,
   "metadata": {},
   "outputs": [
    {
     "output_type": "execute_result",
     "data": {
      "text/plain": "tapes           0.000051\nDepends         0.000136\nthereit         0.000071\nseveral         0.004024\n\"Cool\"          0.000032\n                  ...   \nEuropean        0.000096\nwoman's         0.000039\ntwin            0.000102\nsupport.        0.000073\npathetic--in    0.000015\nLength: 15395, dtype: float64"
     },
     "metadata": {},
     "execution_count": 29
    }
   ],
   "source": []
  },
  {
   "cell_type": "code",
   "execution_count": 24,
   "metadata": {},
   "outputs": [
    {
     "output_type": "execute_result",
     "data": {
      "text/plain": "   tapes  Depends  thereit  several  \"Cool\"  untamed  stomach  tricky  \\\n0      1        0        1        8       1        1        2       1   \n1      0        2        0       11       0        0        2       0   \n\n   student  head.Again,  ...  great!:  rabbit,  presentation  EUREKA!!  A/C  \\\n0        5            0  ...        2        0             0         1    1   \n1        4            1  ...        0        1             1         0    0   \n\n   European  woman's  twin  support.  pathetic--in  \n0         2        1     0         2             0  \n1         0        0     2         0             1  \n\n[2 rows x 15396 columns]",
      "text/html": "<div>\n<style scoped>\n    .dataframe tbody tr th:only-of-type {\n        vertical-align: middle;\n    }\n\n    .dataframe tbody tr th {\n        vertical-align: top;\n    }\n\n    .dataframe thead th {\n        text-align: right;\n    }\n</style>\n<table border=\"1\" class=\"dataframe\">\n  <thead>\n    <tr style=\"text-align: right;\">\n      <th></th>\n      <th>tapes</th>\n      <th>Depends</th>\n      <th>thereit</th>\n      <th>several</th>\n      <th>\"Cool\"</th>\n      <th>untamed</th>\n      <th>stomach</th>\n      <th>tricky</th>\n      <th>student</th>\n      <th>head.Again,</th>\n      <th>...</th>\n      <th>great!:</th>\n      <th>rabbit,</th>\n      <th>presentation</th>\n      <th>EUREKA!!</th>\n      <th>A/C</th>\n      <th>European</th>\n      <th>woman's</th>\n      <th>twin</th>\n      <th>support.</th>\n      <th>pathetic--in</th>\n    </tr>\n  </thead>\n  <tbody>\n    <tr>\n      <th>0</th>\n      <td>1</td>\n      <td>0</td>\n      <td>1</td>\n      <td>8</td>\n      <td>1</td>\n      <td>1</td>\n      <td>2</td>\n      <td>1</td>\n      <td>5</td>\n      <td>0</td>\n      <td>...</td>\n      <td>2</td>\n      <td>0</td>\n      <td>0</td>\n      <td>1</td>\n      <td>1</td>\n      <td>2</td>\n      <td>1</td>\n      <td>0</td>\n      <td>2</td>\n      <td>0</td>\n    </tr>\n    <tr>\n      <th>1</th>\n      <td>0</td>\n      <td>2</td>\n      <td>0</td>\n      <td>11</td>\n      <td>0</td>\n      <td>0</td>\n      <td>2</td>\n      <td>0</td>\n      <td>4</td>\n      <td>1</td>\n      <td>...</td>\n      <td>0</td>\n      <td>1</td>\n      <td>1</td>\n      <td>0</td>\n      <td>0</td>\n      <td>0</td>\n      <td>0</td>\n      <td>2</td>\n      <td>0</td>\n      <td>1</td>\n    </tr>\n  </tbody>\n</table>\n<p>2 rows × 15396 columns</p>\n</div>"
     },
     "metadata": {},
     "execution_count": 24
    }
   ],
   "source": [
    "cf_data"
   ]
  },
  {
   "cell_type": "code",
   "execution_count": 25,
   "metadata": {},
   "outputs": [
    {
     "output_type": "execute_result",
     "data": {
      "text/plain": "   tapes  Depends  thereit   several  \"Cool\"  untamed  stomach  tricky  \\\n0    3.0      3.0      3.0  1.721246     3.0      3.0  2.39794     3.0   \n\n    student  head.Again,  ...  great!:  rabbit,  presentation  EUREKA!!  A/C  \\\n0  2.045757          3.0  ...  2.69897      3.0           3.0       3.0  3.0   \n\n   European  woman's     twin  support.  pathetic--in  \n0   2.69897      3.0  2.69897   2.69897           3.0  \n\n[1 rows x 15396 columns]",
      "text/html": "<div>\n<style scoped>\n    .dataframe tbody tr th:only-of-type {\n        vertical-align: middle;\n    }\n\n    .dataframe tbody tr th {\n        vertical-align: top;\n    }\n\n    .dataframe thead th {\n        text-align: right;\n    }\n</style>\n<table border=\"1\" class=\"dataframe\">\n  <thead>\n    <tr style=\"text-align: right;\">\n      <th></th>\n      <th>tapes</th>\n      <th>Depends</th>\n      <th>thereit</th>\n      <th>several</th>\n      <th>\"Cool\"</th>\n      <th>untamed</th>\n      <th>stomach</th>\n      <th>tricky</th>\n      <th>student</th>\n      <th>head.Again,</th>\n      <th>...</th>\n      <th>great!:</th>\n      <th>rabbit,</th>\n      <th>presentation</th>\n      <th>EUREKA!!</th>\n      <th>A/C</th>\n      <th>European</th>\n      <th>woman's</th>\n      <th>twin</th>\n      <th>support.</th>\n      <th>pathetic--in</th>\n    </tr>\n  </thead>\n  <tbody>\n    <tr>\n      <th>0</th>\n      <td>3.0</td>\n      <td>3.0</td>\n      <td>3.0</td>\n      <td>1.721246</td>\n      <td>3.0</td>\n      <td>3.0</td>\n      <td>2.39794</td>\n      <td>3.0</td>\n      <td>2.045757</td>\n      <td>3.0</td>\n      <td>...</td>\n      <td>2.69897</td>\n      <td>3.0</td>\n      <td>3.0</td>\n      <td>3.0</td>\n      <td>3.0</td>\n      <td>2.69897</td>\n      <td>3.0</td>\n      <td>2.69897</td>\n      <td>2.69897</td>\n      <td>3.0</td>\n    </tr>\n  </tbody>\n</table>\n<p>1 rows × 15396 columns</p>\n</div>"
     },
     "metadata": {},
     "execution_count": 25
    }
   ],
   "source": [
    "idf_data"
   ]
  },
  {
   "cell_type": "code",
   "execution_count": 26,
   "metadata": {},
   "outputs": [
    {
     "output_type": "execute_result",
     "data": {
      "text/plain": "     tapes  Depends  thereit  several  \"Cool\"  untamed  stomach  tricky  \\\n0        0        0        0        0       0        0        0       0   \n1        0        0        0        0       0        0        0       0   \n2        0        0        0        0       0        0        0       0   \n3        0        0        0        0       0        0        0       0   \n4        0        0        0        0       0        0        0       0   \n..     ...      ...      ...      ...     ...      ...      ...     ...   \n995      0        0        0        0       0        0        0       0   \n996      0        0        0        0       0        0        0       0   \n997      0        0        0        0       0        0        0       0   \n998      0        0        0        0       0        0        0       0   \n999      0        0        0        0       0        0        0       0   \n\n     student  head.Again,  ...  great!:  rabbit,  presentation  EUREKA!!  A/C  \\\n0          0            0  ...        0        0             0         0    0   \n1          0            0  ...        0        0             0         0    0   \n2          0            0  ...        0        0             0         0    0   \n3          0            0  ...        0        0             0         0    0   \n4          0            0  ...        0        0             0         0    0   \n..       ...          ...  ...      ...      ...           ...       ...  ...   \n995        0            0  ...        0        0             0         0    0   \n996        0            0  ...        0        0             0         0    0   \n997        0            0  ...        0        0             0         0    0   \n998        0            0  ...        0        0             0         0    0   \n999        0            0  ...        0        0             0         0    0   \n\n     European  woman's  twin  support.  pathetic--in  \n0           0        0     0         0             0  \n1           0        0     0         0             0  \n2           0        0     0         0             0  \n3           0        0     0         0             0  \n4           0        0     0         0             0  \n..        ...      ...   ...       ...           ...  \n995         0        0     0         0             0  \n996         0        0     0         0             0  \n997         0        0     0         0             0  \n998         0        0     0         0             0  \n999         0        0     0         0             0  \n\n[1000 rows x 15396 columns]",
      "text/html": "<div>\n<style scoped>\n    .dataframe tbody tr th:only-of-type {\n        vertical-align: middle;\n    }\n\n    .dataframe tbody tr th {\n        vertical-align: top;\n    }\n\n    .dataframe thead th {\n        text-align: right;\n    }\n</style>\n<table border=\"1\" class=\"dataframe\">\n  <thead>\n    <tr style=\"text-align: right;\">\n      <th></th>\n      <th>tapes</th>\n      <th>Depends</th>\n      <th>thereit</th>\n      <th>several</th>\n      <th>\"Cool\"</th>\n      <th>untamed</th>\n      <th>stomach</th>\n      <th>tricky</th>\n      <th>student</th>\n      <th>head.Again,</th>\n      <th>...</th>\n      <th>great!:</th>\n      <th>rabbit,</th>\n      <th>presentation</th>\n      <th>EUREKA!!</th>\n      <th>A/C</th>\n      <th>European</th>\n      <th>woman's</th>\n      <th>twin</th>\n      <th>support.</th>\n      <th>pathetic--in</th>\n    </tr>\n  </thead>\n  <tbody>\n    <tr>\n      <th>0</th>\n      <td>0</td>\n      <td>0</td>\n      <td>0</td>\n      <td>0</td>\n      <td>0</td>\n      <td>0</td>\n      <td>0</td>\n      <td>0</td>\n      <td>0</td>\n      <td>0</td>\n      <td>...</td>\n      <td>0</td>\n      <td>0</td>\n      <td>0</td>\n      <td>0</td>\n      <td>0</td>\n      <td>0</td>\n      <td>0</td>\n      <td>0</td>\n      <td>0</td>\n      <td>0</td>\n    </tr>\n    <tr>\n      <th>1</th>\n      <td>0</td>\n      <td>0</td>\n      <td>0</td>\n      <td>0</td>\n      <td>0</td>\n      <td>0</td>\n      <td>0</td>\n      <td>0</td>\n      <td>0</td>\n      <td>0</td>\n      <td>...</td>\n      <td>0</td>\n      <td>0</td>\n      <td>0</td>\n      <td>0</td>\n      <td>0</td>\n      <td>0</td>\n      <td>0</td>\n      <td>0</td>\n      <td>0</td>\n      <td>0</td>\n    </tr>\n    <tr>\n      <th>2</th>\n      <td>0</td>\n      <td>0</td>\n      <td>0</td>\n      <td>0</td>\n      <td>0</td>\n      <td>0</td>\n      <td>0</td>\n      <td>0</td>\n      <td>0</td>\n      <td>0</td>\n      <td>...</td>\n      <td>0</td>\n      <td>0</td>\n      <td>0</td>\n      <td>0</td>\n      <td>0</td>\n      <td>0</td>\n      <td>0</td>\n      <td>0</td>\n      <td>0</td>\n      <td>0</td>\n    </tr>\n    <tr>\n      <th>3</th>\n      <td>0</td>\n      <td>0</td>\n      <td>0</td>\n      <td>0</td>\n      <td>0</td>\n      <td>0</td>\n      <td>0</td>\n      <td>0</td>\n      <td>0</td>\n      <td>0</td>\n      <td>...</td>\n      <td>0</td>\n      <td>0</td>\n      <td>0</td>\n      <td>0</td>\n      <td>0</td>\n      <td>0</td>\n      <td>0</td>\n      <td>0</td>\n      <td>0</td>\n      <td>0</td>\n    </tr>\n    <tr>\n      <th>4</th>\n      <td>0</td>\n      <td>0</td>\n      <td>0</td>\n      <td>0</td>\n      <td>0</td>\n      <td>0</td>\n      <td>0</td>\n      <td>0</td>\n      <td>0</td>\n      <td>0</td>\n      <td>...</td>\n      <td>0</td>\n      <td>0</td>\n      <td>0</td>\n      <td>0</td>\n      <td>0</td>\n      <td>0</td>\n      <td>0</td>\n      <td>0</td>\n      <td>0</td>\n      <td>0</td>\n    </tr>\n    <tr>\n      <th>...</th>\n      <td>...</td>\n      <td>...</td>\n      <td>...</td>\n      <td>...</td>\n      <td>...</td>\n      <td>...</td>\n      <td>...</td>\n      <td>...</td>\n      <td>...</td>\n      <td>...</td>\n      <td>...</td>\n      <td>...</td>\n      <td>...</td>\n      <td>...</td>\n      <td>...</td>\n      <td>...</td>\n      <td>...</td>\n      <td>...</td>\n      <td>...</td>\n      <td>...</td>\n      <td>...</td>\n    </tr>\n    <tr>\n      <th>995</th>\n      <td>0</td>\n      <td>0</td>\n      <td>0</td>\n      <td>0</td>\n      <td>0</td>\n      <td>0</td>\n      <td>0</td>\n      <td>0</td>\n      <td>0</td>\n      <td>0</td>\n      <td>...</td>\n      <td>0</td>\n      <td>0</td>\n      <td>0</td>\n      <td>0</td>\n      <td>0</td>\n      <td>0</td>\n      <td>0</td>\n      <td>0</td>\n      <td>0</td>\n      <td>0</td>\n    </tr>\n    <tr>\n      <th>996</th>\n      <td>0</td>\n      <td>0</td>\n      <td>0</td>\n      <td>0</td>\n      <td>0</td>\n      <td>0</td>\n      <td>0</td>\n      <td>0</td>\n      <td>0</td>\n      <td>0</td>\n      <td>...</td>\n      <td>0</td>\n      <td>0</td>\n      <td>0</td>\n      <td>0</td>\n      <td>0</td>\n      <td>0</td>\n      <td>0</td>\n      <td>0</td>\n      <td>0</td>\n      <td>0</td>\n    </tr>\n    <tr>\n      <th>997</th>\n      <td>0</td>\n      <td>0</td>\n      <td>0</td>\n      <td>0</td>\n      <td>0</td>\n      <td>0</td>\n      <td>0</td>\n      <td>0</td>\n      <td>0</td>\n      <td>0</td>\n      <td>...</td>\n      <td>0</td>\n      <td>0</td>\n      <td>0</td>\n      <td>0</td>\n      <td>0</td>\n      <td>0</td>\n      <td>0</td>\n      <td>0</td>\n      <td>0</td>\n      <td>0</td>\n    </tr>\n    <tr>\n      <th>998</th>\n      <td>0</td>\n      <td>0</td>\n      <td>0</td>\n      <td>0</td>\n      <td>0</td>\n      <td>0</td>\n      <td>0</td>\n      <td>0</td>\n      <td>0</td>\n      <td>0</td>\n      <td>...</td>\n      <td>0</td>\n      <td>0</td>\n      <td>0</td>\n      <td>0</td>\n      <td>0</td>\n      <td>0</td>\n      <td>0</td>\n      <td>0</td>\n      <td>0</td>\n      <td>0</td>\n    </tr>\n    <tr>\n      <th>999</th>\n      <td>0</td>\n      <td>0</td>\n      <td>0</td>\n      <td>0</td>\n      <td>0</td>\n      <td>0</td>\n      <td>0</td>\n      <td>0</td>\n      <td>0</td>\n      <td>0</td>\n      <td>...</td>\n      <td>0</td>\n      <td>0</td>\n      <td>0</td>\n      <td>0</td>\n      <td>0</td>\n      <td>0</td>\n      <td>0</td>\n      <td>0</td>\n      <td>0</td>\n      <td>0</td>\n    </tr>\n  </tbody>\n</table>\n<p>1000 rows × 15396 columns</p>\n</div>"
     },
     "metadata": {},
     "execution_count": 26
    }
   ],
   "source": [
    "word_count"
   ]
  },
  {
   "cell_type": "code",
   "execution_count": 27,
   "metadata": {},
   "outputs": [
    {
     "output_type": "execute_result",
     "data": {
      "text/plain": "     tapes       label  Depends  thereit  several  \"Cool\"  untamed  stomach  \\\n0      0.0  __label__2      0.0      0.0      0.0     0.0      0.0      0.0   \n1      0.0  __label__2      0.0      0.0      0.0     0.0      0.0      0.0   \n2      0.0  __label__2      0.0      0.0      0.0     0.0      0.0      0.0   \n3      0.0  __label__2      0.0      0.0      0.0     0.0      0.0      0.0   \n4      0.0  __label__2      0.0      0.0      0.0     0.0      0.0      0.0   \n..     ...         ...      ...      ...      ...     ...      ...      ...   \n995    0.0  __label__1      0.0      0.0      0.0     0.0      0.0      0.0   \n996    0.0  __label__1      0.0      0.0      0.0     0.0      0.0      0.0   \n997    0.0  __label__2      0.0      0.0      0.0     0.0      0.0      0.0   \n998    0.0  __label__1      0.0      0.0      0.0     0.0      0.0      0.0   \n999    0.0  __label__1      0.0      0.0      0.0     0.0      0.0      0.0   \n\n     tricky  student  ...  great!:  rabbit,  presentation  EUREKA!!  A/C  \\\n0       0.0      0.0  ...      0.0      0.0           0.0       0.0  0.0   \n1       0.0      0.0  ...      0.0      0.0           0.0       0.0  0.0   \n2       0.0      0.0  ...      0.0      0.0           0.0       0.0  0.0   \n3       0.0      0.0  ...      0.0      0.0           0.0       0.0  0.0   \n4       0.0      0.0  ...      0.0      0.0           0.0       0.0  0.0   \n..      ...      ...  ...      ...      ...           ...       ...  ...   \n995     0.0      0.0  ...      0.0      0.0           0.0       0.0  0.0   \n996     0.0      0.0  ...      0.0      0.0           0.0       0.0  0.0   \n997     0.0      0.0  ...      0.0      0.0           0.0       0.0  0.0   \n998     0.0      0.0  ...      0.0      0.0           0.0       0.0  0.0   \n999     0.0      0.0  ...      0.0      0.0           0.0       0.0  0.0   \n\n     European  woman's  twin  support.  pathetic--in  \n0         0.0      0.0   0.0       0.0           0.0  \n1         0.0      0.0   0.0       0.0           0.0  \n2         0.0      0.0   0.0       0.0           0.0  \n3         0.0      0.0   0.0       0.0           0.0  \n4         0.0      0.0   0.0       0.0           0.0  \n..        ...      ...   ...       ...           ...  \n995       0.0      0.0   0.0       0.0           0.0  \n996       0.0      0.0   0.0       0.0           0.0  \n997       0.0      0.0   0.0       0.0           0.0  \n998       0.0      0.0   0.0       0.0           0.0  \n999       0.0      0.0   0.0       0.0           0.0  \n\n[1000 rows x 15396 columns]",
      "text/html": "<div>\n<style scoped>\n    .dataframe tbody tr th:only-of-type {\n        vertical-align: middle;\n    }\n\n    .dataframe tbody tr th {\n        vertical-align: top;\n    }\n\n    .dataframe thead th {\n        text-align: right;\n    }\n</style>\n<table border=\"1\" class=\"dataframe\">\n  <thead>\n    <tr style=\"text-align: right;\">\n      <th></th>\n      <th>tapes</th>\n      <th>label</th>\n      <th>Depends</th>\n      <th>thereit</th>\n      <th>several</th>\n      <th>\"Cool\"</th>\n      <th>untamed</th>\n      <th>stomach</th>\n      <th>tricky</th>\n      <th>student</th>\n      <th>...</th>\n      <th>great!:</th>\n      <th>rabbit,</th>\n      <th>presentation</th>\n      <th>EUREKA!!</th>\n      <th>A/C</th>\n      <th>European</th>\n      <th>woman's</th>\n      <th>twin</th>\n      <th>support.</th>\n      <th>pathetic--in</th>\n    </tr>\n  </thead>\n  <tbody>\n    <tr>\n      <th>0</th>\n      <td>0.0</td>\n      <td>__label__2</td>\n      <td>0.0</td>\n      <td>0.0</td>\n      <td>0.0</td>\n      <td>0.0</td>\n      <td>0.0</td>\n      <td>0.0</td>\n      <td>0.0</td>\n      <td>0.0</td>\n      <td>...</td>\n      <td>0.0</td>\n      <td>0.0</td>\n      <td>0.0</td>\n      <td>0.0</td>\n      <td>0.0</td>\n      <td>0.0</td>\n      <td>0.0</td>\n      <td>0.0</td>\n      <td>0.0</td>\n      <td>0.0</td>\n    </tr>\n    <tr>\n      <th>1</th>\n      <td>0.0</td>\n      <td>__label__2</td>\n      <td>0.0</td>\n      <td>0.0</td>\n      <td>0.0</td>\n      <td>0.0</td>\n      <td>0.0</td>\n      <td>0.0</td>\n      <td>0.0</td>\n      <td>0.0</td>\n      <td>...</td>\n      <td>0.0</td>\n      <td>0.0</td>\n      <td>0.0</td>\n      <td>0.0</td>\n      <td>0.0</td>\n      <td>0.0</td>\n      <td>0.0</td>\n      <td>0.0</td>\n      <td>0.0</td>\n      <td>0.0</td>\n    </tr>\n    <tr>\n      <th>2</th>\n      <td>0.0</td>\n      <td>__label__2</td>\n      <td>0.0</td>\n      <td>0.0</td>\n      <td>0.0</td>\n      <td>0.0</td>\n      <td>0.0</td>\n      <td>0.0</td>\n      <td>0.0</td>\n      <td>0.0</td>\n      <td>...</td>\n      <td>0.0</td>\n      <td>0.0</td>\n      <td>0.0</td>\n      <td>0.0</td>\n      <td>0.0</td>\n      <td>0.0</td>\n      <td>0.0</td>\n      <td>0.0</td>\n      <td>0.0</td>\n      <td>0.0</td>\n    </tr>\n    <tr>\n      <th>3</th>\n      <td>0.0</td>\n      <td>__label__2</td>\n      <td>0.0</td>\n      <td>0.0</td>\n      <td>0.0</td>\n      <td>0.0</td>\n      <td>0.0</td>\n      <td>0.0</td>\n      <td>0.0</td>\n      <td>0.0</td>\n      <td>...</td>\n      <td>0.0</td>\n      <td>0.0</td>\n      <td>0.0</td>\n      <td>0.0</td>\n      <td>0.0</td>\n      <td>0.0</td>\n      <td>0.0</td>\n      <td>0.0</td>\n      <td>0.0</td>\n      <td>0.0</td>\n    </tr>\n    <tr>\n      <th>4</th>\n      <td>0.0</td>\n      <td>__label__2</td>\n      <td>0.0</td>\n      <td>0.0</td>\n      <td>0.0</td>\n      <td>0.0</td>\n      <td>0.0</td>\n      <td>0.0</td>\n      <td>0.0</td>\n      <td>0.0</td>\n      <td>...</td>\n      <td>0.0</td>\n      <td>0.0</td>\n      <td>0.0</td>\n      <td>0.0</td>\n      <td>0.0</td>\n      <td>0.0</td>\n      <td>0.0</td>\n      <td>0.0</td>\n      <td>0.0</td>\n      <td>0.0</td>\n    </tr>\n    <tr>\n      <th>...</th>\n      <td>...</td>\n      <td>...</td>\n      <td>...</td>\n      <td>...</td>\n      <td>...</td>\n      <td>...</td>\n      <td>...</td>\n      <td>...</td>\n      <td>...</td>\n      <td>...</td>\n      <td>...</td>\n      <td>...</td>\n      <td>...</td>\n      <td>...</td>\n      <td>...</td>\n      <td>...</td>\n      <td>...</td>\n      <td>...</td>\n      <td>...</td>\n      <td>...</td>\n      <td>...</td>\n    </tr>\n    <tr>\n      <th>995</th>\n      <td>0.0</td>\n      <td>__label__1</td>\n      <td>0.0</td>\n      <td>0.0</td>\n      <td>0.0</td>\n      <td>0.0</td>\n      <td>0.0</td>\n      <td>0.0</td>\n      <td>0.0</td>\n      <td>0.0</td>\n      <td>...</td>\n      <td>0.0</td>\n      <td>0.0</td>\n      <td>0.0</td>\n      <td>0.0</td>\n      <td>0.0</td>\n      <td>0.0</td>\n      <td>0.0</td>\n      <td>0.0</td>\n      <td>0.0</td>\n      <td>0.0</td>\n    </tr>\n    <tr>\n      <th>996</th>\n      <td>0.0</td>\n      <td>__label__1</td>\n      <td>0.0</td>\n      <td>0.0</td>\n      <td>0.0</td>\n      <td>0.0</td>\n      <td>0.0</td>\n      <td>0.0</td>\n      <td>0.0</td>\n      <td>0.0</td>\n      <td>...</td>\n      <td>0.0</td>\n      <td>0.0</td>\n      <td>0.0</td>\n      <td>0.0</td>\n      <td>0.0</td>\n      <td>0.0</td>\n      <td>0.0</td>\n      <td>0.0</td>\n      <td>0.0</td>\n      <td>0.0</td>\n    </tr>\n    <tr>\n      <th>997</th>\n      <td>0.0</td>\n      <td>__label__2</td>\n      <td>0.0</td>\n      <td>0.0</td>\n      <td>0.0</td>\n      <td>0.0</td>\n      <td>0.0</td>\n      <td>0.0</td>\n      <td>0.0</td>\n      <td>0.0</td>\n      <td>...</td>\n      <td>0.0</td>\n      <td>0.0</td>\n      <td>0.0</td>\n      <td>0.0</td>\n      <td>0.0</td>\n      <td>0.0</td>\n      <td>0.0</td>\n      <td>0.0</td>\n      <td>0.0</td>\n      <td>0.0</td>\n    </tr>\n    <tr>\n      <th>998</th>\n      <td>0.0</td>\n      <td>__label__1</td>\n      <td>0.0</td>\n      <td>0.0</td>\n      <td>0.0</td>\n      <td>0.0</td>\n      <td>0.0</td>\n      <td>0.0</td>\n      <td>0.0</td>\n      <td>0.0</td>\n      <td>...</td>\n      <td>0.0</td>\n      <td>0.0</td>\n      <td>0.0</td>\n      <td>0.0</td>\n      <td>0.0</td>\n      <td>0.0</td>\n      <td>0.0</td>\n      <td>0.0</td>\n      <td>0.0</td>\n      <td>0.0</td>\n    </tr>\n    <tr>\n      <th>999</th>\n      <td>0.0</td>\n      <td>__label__1</td>\n      <td>0.0</td>\n      <td>0.0</td>\n      <td>0.0</td>\n      <td>0.0</td>\n      <td>0.0</td>\n      <td>0.0</td>\n      <td>0.0</td>\n      <td>0.0</td>\n      <td>...</td>\n      <td>0.0</td>\n      <td>0.0</td>\n      <td>0.0</td>\n      <td>0.0</td>\n      <td>0.0</td>\n      <td>0.0</td>\n      <td>0.0</td>\n      <td>0.0</td>\n      <td>0.0</td>\n      <td>0.0</td>\n    </tr>\n  </tbody>\n</table>\n<p>1000 rows × 15396 columns</p>\n</div>"
     },
     "metadata": {},
     "execution_count": 27
    }
   ],
   "source": [
    "tf_count"
   ]
  },
  {
   "cell_type": "code",
   "execution_count": null,
   "metadata": {},
   "outputs": [],
   "source": []
  }
 ],
 "metadata": {
  "language_info": {
   "codemirror_mode": {
    "name": "ipython",
    "version": 3
   },
   "file_extension": ".py",
   "mimetype": "text/x-python",
   "name": "python",
   "nbconvert_exporter": "python",
   "pygments_lexer": "ipython3",
   "version": "3.7.7-final"
  },
  "orig_nbformat": 2,
  "kernelspec": {
   "name": "python37764bitvenvvenv38783c2c19444c2aa3ff9ced6b6fe7f6",
   "display_name": "Python 3.7.7 64-bit ('venv': venv)"
  }
 },
 "nbformat": 4,
 "nbformat_minor": 2
}